{
 "cells": [
  {
   "cell_type": "markdown",
   "metadata": {},
   "source": [
    "# Essay Topic Generator with OpenAI's GPT-4\n",
    "\n",
    "This notebook presents a Python script designed to generate essay topics using OpenAI's GPT-4 model. It demonstrates how to integrate OpenAI's API with Python for creative applications like generating essay topics that adhere to certain criteria.\n",
    "\n",
    "## Requirements\n",
    "\n",
    "Kaku requires `Python>=3.10`. To run this notebook example, please install:\n",
    "```bash\n",
    "pip install openai\n",
    "```"
   ]
  },
  {
   "cell_type": "code",
   "execution_count": 1,
   "metadata": {},
   "outputs": [],
   "source": [
    "import openai\n",
    "import re\n",
    "import os"
   ]
  },
  {
   "cell_type": "markdown",
   "metadata": {},
   "source": [
    "## Setting Your API Endpoint\n",
    "Before generating topics, ensure you have set your OpenAI API key. This can be done by setting the OPENAI_API_KEY environment variable. In a Jupyter notebook, you can do this temporarily by running:"
   ]
  },
  {
   "cell_type": "code",
   "execution_count": 2,
   "metadata": {},
   "outputs": [],
   "source": [
    "os.environ[\"OPENAI_API_KEY\"] = \"your_api_key_here\""
   ]
  },
  {
   "cell_type": "markdown",
   "metadata": {},
   "source": [
    "## Generating Essay Topics Function\n",
    "Below is the **generate_topics** function. It communicates with the OpenAI GPT-4 model to generate a specified number of essay topics based on a set of criteria. The topics should be challenging yet relevant to real-life scenarios and representable with synthetic data."
   ]
  },
  {
   "cell_type": "code",
   "execution_count": 3,
   "metadata": {},
   "outputs": [],
   "source": [
    "def generate_topics(topic_count):\n",
    "    \"\"\"\n",
    "    Generate essay topics using OpenAI's GPT-4 model.\n",
    "\n",
    "    :param topic_count: The number of topics to generate.\n",
    "    :return: A string containing the generated topics.\n",
    "    \"\"\"\n",
    "\n",
    "    topic_generation_prompt = f\"\"\"\n",
    "    Generate {topic_count} IB essay topics. The topics should generally follow:\n",
    "    1. The difficulty is within the expected range. Should be within or a little bit\n",
    "    beyond IB math syllabus.\n",
    "    2. Preferably to have some real-life implications.\n",
    "    3. The topic should be represented with with synthetic data (no need to look up real world data).\n",
    "\n",
    "    Output the topic only!\n",
    "    \"\"\"\n",
    "    # Set up OpenAI client\n",
    "    client = openai.OpenAI(api_key=os.getenv(\"OPENAI_API_KEY\"))\n",
    "\n",
    "    while True:\n",
    "        chat_completion = client.chat.completions.create(\n",
    "            model=\"gpt-4\",\n",
    "            messages=[{\"role\": \"user\", \"content\": topic_generation_prompt}]\n",
    "        )\n",
    "        generated_content = chat_completion.choices[0].message.content\n",
    "\n",
    "        # Check if the generated content meets the requirements\n",
    "        if re.search(r'\\d+\\.\\s*(.+)', generated_content):\n",
    "            print(f\"[DEBUG] Topics: \\n{generated_content}\")\n",
    "            return generated_content\n",
    "        # If not, the loop will continue and generate new content"
   ]
  },
  {
   "cell_type": "markdown",
   "metadata": {},
   "source": [
    "## Selecting a Topic from Generated Content\n",
    "The **select_topic_from_string_regex** function allows us to pick a specific topic from the generated content using a regular expression. This showcases basic text processing in Python."
   ]
  },
  {
   "cell_type": "code",
   "execution_count": 4,
   "metadata": {},
   "outputs": [],
   "source": [
    "def select_topic_from_string_regex(input_string, number):\n",
    "    \"\"\"\n",
    "    Select a topic from a string using a regular expression.\n",
    "    \n",
    "    :param input_string: The string to search for topics.\n",
    "    :param number: The number of the topic to select.\n",
    "    :return: The selected topic.\n",
    "    \"\"\"\n",
    "    # Regular expression to match topic lines\n",
    "    regex_pattern = r'\\d+\\.\\s*(.+)'\n",
    "\n",
    "    try:\n",
    "        # Find all matches in the input string\n",
    "        topics = re.findall(regex_pattern, input_string)\n",
    "\n",
    "        # Convert number to integer if it's a string\n",
    "        if isinstance(number, str):\n",
    "            number = int(number)\n",
    "\n",
    "        # Validate the selection number\n",
    "        if 1 <= number <= len(topics):\n",
    "            return topics[number - 1]\n",
    "        else:\n",
    "            raise ValueError(\"Invalid selection. Please select a number between 1 and the total number of topics.\")\n",
    "    except ValueError as e:\n",
    "        print(e)"
   ]
  },
  {
   "cell_type": "markdown",
   "metadata": {},
   "source": [
    "## Testing the Functionality\n",
    "Finally, the **test_generate_topics** function allows us to see this script in action. It generates topics and prompts the user to select one."
   ]
  },
  {
   "cell_type": "code",
   "execution_count": 5,
   "metadata": {},
   "outputs": [],
   "source": [
    "def test_generate_topics():\n",
    "    # Generate\n",
    "    topics = generate_topics(3)\n",
    "    \n",
    "    # Select\n",
    "    selection = input(\"select one of the topic.. \")\n",
    "    topic = select_topic_from_string_regex(topics, selection)\n",
    "    return topic"
   ]
  },
  {
   "cell_type": "markdown",
   "metadata": {},
   "source": [
    "## Conclusion\n",
    "This notebook provides a hands-on example of using OpenAI's GPT-4 model to generate and select essay topics programmatically. It demonstrates the power of combining machine learning models with Python scripting to automate creative tasks. Feel free to modify the code to explore different topic generation criteria or to integrate more complex logic for topic selection.\n",
    "\n",
    "To use this in a Jupyter Notebook, simply copy the markdown and code segments into their respective cell types in the notebook. Adjust the !pip install openai command as needed based on your environment and ensure you have an API key from OpenAI for the script to work."
   ]
  }
 ],
 "metadata": {
  "kernelspec": {
   "display_name": "kaku",
   "language": "python",
   "name": "python3"
  },
  "language_info": {
   "codemirror_mode": {
    "name": "ipython",
    "version": 3
   },
   "file_extension": ".py",
   "mimetype": "text/x-python",
   "name": "python",
   "nbconvert_exporter": "python",
   "pygments_lexer": "ipython3",
   "version": "3.11.7"
  }
 },
 "nbformat": 4,
 "nbformat_minor": 2
}
